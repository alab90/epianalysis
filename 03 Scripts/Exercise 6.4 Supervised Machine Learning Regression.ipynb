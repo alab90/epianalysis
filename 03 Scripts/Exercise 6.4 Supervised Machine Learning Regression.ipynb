{
 "cells": [
  {
   "cell_type": "markdown",
   "id": "b513cadd",
   "metadata": {},
   "source": [
    "# Exercise 6.4 Supervised Machine Learning"
   ]
  },
  {
   "cell_type": "markdown",
   "id": "d8c77e6c",
   "metadata": {},
   "source": [
    "This script contains\n",
    "\n",
    "1. Importing libraries\n",
    "2. Data cleaning\n",
    "3. Data prep\n",
    "4. Regression analysis\n",
    "5. Analysis without outliers"
   ]
  },
  {
   "cell_type": "markdown",
   "id": "7a950692",
   "metadata": {},
   "source": [
    "# 01. Importing libraries"
   ]
  },
  {
   "cell_type": "code",
   "execution_count": 1,
   "id": "9cf49f5f",
   "metadata": {},
   "outputs": [],
   "source": [
    "import pandas as pd\n",
    "import numpy as np\n",
    "import seaborn as sns\n",
    "import matplotlib\n",
    "import matplotlib.pyplot as plt\n",
    "import os\n",
    "import sklearn\n",
    "from sklearn.model_selection import train_test_split \n",
    "from sklearn.linear_model import LinearRegression\n",
    "from sklearn.metrics import mean_squared_error, r2_score"
   ]
  },
  {
   "cell_type": "code",
   "execution_count": 2,
   "id": "aea5f09e",
   "metadata": {},
   "outputs": [],
   "source": [
    "# This option ensures that the graphs you create are displayed within the notebook without the need to \"call\" them specifically.\n",
    "\n",
    "%matplotlib inline"
   ]
  },
  {
   "cell_type": "code",
   "execution_count": 3,
   "id": "62389a35",
   "metadata": {},
   "outputs": [],
   "source": [
    "# path to EPI folders\n",
    "path = r\"C:\\Users\\alabaro\\OneDrive - DAI\\Documents\\EPI Analysis\""
   ]
  },
  {
   "cell_type": "code",
   "execution_count": 4,
   "id": "9eaf8e39",
   "metadata": {},
   "outputs": [],
   "source": [
    "# import data file\n",
    "df_epi_pop_gini = pd.read_pickle(os.path.join(path, '02 Data', 'Prepared Data', 'epi_pop_gini.pkl'))"
   ]
  },
  {
   "cell_type": "markdown",
   "id": "f3fa9465",
   "metadata": {},
   "source": [
    "# 02. Data cleaning"
   ]
  },
  {
   "cell_type": "code",
   "execution_count": 5,
   "id": "44452ba3",
   "metadata": {},
   "outputs": [
    {
     "data": {
      "text/plain": [
       "Index(['code', 'country_code', 'country_x', 'region', 'EPI.new', 'HLT.new',\n",
       "       'AIR.new', 'HAD.new', 'PMD.new', 'OZD.new',\n",
       "       ...\n",
       "       'BCA.rnk.old', 'GHN.rnk.old', 'LCB.rnk.old', 'GIB.rnk.old',\n",
       "       'GHP.rnk.old', 'country_name', 'pop_2022', '_merge', 'country_y',\n",
       "       'gini'],\n",
       "      dtype='object', length=284)"
      ]
     },
     "execution_count": 5,
     "metadata": {},
     "output_type": "execute_result"
    }
   ],
   "source": [
    "df_epi_pop_gini.columns"
   ]
  },
  {
   "cell_type": "code",
   "execution_count": 9,
   "id": "96985236",
   "metadata": {},
   "outputs": [],
   "source": [
    "# create a subset\n",
    "\n",
    "df = df_epi_pop_gini[['country_name', 'EPI.new', 'pop_2022']]"
   ]
  },
  {
   "cell_type": "code",
   "execution_count": 10,
   "id": "e08b06db",
   "metadata": {},
   "outputs": [
    {
     "data": {
      "text/html": [
       "<div>\n",
       "<style scoped>\n",
       "    .dataframe tbody tr th:only-of-type {\n",
       "        vertical-align: middle;\n",
       "    }\n",
       "\n",
       "    .dataframe tbody tr th {\n",
       "        vertical-align: top;\n",
       "    }\n",
       "\n",
       "    .dataframe thead th {\n",
       "        text-align: right;\n",
       "    }\n",
       "</style>\n",
       "<table border=\"1\" class=\"dataframe\">\n",
       "  <thead>\n",
       "    <tr style=\"text-align: right;\">\n",
       "      <th></th>\n",
       "      <th>country_name</th>\n",
       "      <th>EPI.new</th>\n",
       "      <th>pop_2022</th>\n",
       "    </tr>\n",
       "  </thead>\n",
       "  <tbody>\n",
       "    <tr>\n",
       "      <th>0</th>\n",
       "      <td>Afghanistan</td>\n",
       "      <td>43.6</td>\n",
       "      <td>41128771</td>\n",
       "    </tr>\n",
       "    <tr>\n",
       "      <th>1</th>\n",
       "      <td>Angola</td>\n",
       "      <td>30.5</td>\n",
       "      <td>35588987</td>\n",
       "    </tr>\n",
       "    <tr>\n",
       "      <th>2</th>\n",
       "      <td>Albania</td>\n",
       "      <td>47.1</td>\n",
       "      <td>2775634</td>\n",
       "    </tr>\n",
       "    <tr>\n",
       "      <th>3</th>\n",
       "      <td>United Arab Emirates</td>\n",
       "      <td>52.4</td>\n",
       "      <td>9441129</td>\n",
       "    </tr>\n",
       "    <tr>\n",
       "      <th>4</th>\n",
       "      <td>Argentina</td>\n",
       "      <td>41.1</td>\n",
       "      <td>46234830</td>\n",
       "    </tr>\n",
       "  </tbody>\n",
       "</table>\n",
       "</div>"
      ],
      "text/plain": [
       "           country_name  EPI.new  pop_2022\n",
       "0           Afghanistan     43.6  41128771\n",
       "1                Angola     30.5  35588987\n",
       "2               Albania     47.1   2775634\n",
       "3  United Arab Emirates     52.4   9441129\n",
       "4             Argentina     41.1  46234830"
      ]
     },
     "execution_count": 10,
     "metadata": {},
     "output_type": "execute_result"
    }
   ],
   "source": [
    "df.head()"
   ]
  },
  {
   "cell_type": "code",
   "execution_count": 11,
   "id": "bde87317",
   "metadata": {},
   "outputs": [
    {
     "data": {
      "text/plain": [
       "(179, 3)"
      ]
     },
     "execution_count": 11,
     "metadata": {},
     "output_type": "execute_result"
    }
   ],
   "source": [
    "df.shape"
   ]
  },
  {
   "cell_type": "code",
   "execution_count": 12,
   "id": "c1bc416a",
   "metadata": {},
   "outputs": [
    {
     "data": {
      "text/plain": [
       "country_name    0\n",
       "EPI.new         0\n",
       "pop_2022        0\n",
       "dtype: int64"
      ]
     },
     "execution_count": 12,
     "metadata": {},
     "output_type": "execute_result"
    }
   ],
   "source": [
    "# Check for missing values\n",
    "\n",
    "df.isnull().sum()"
   ]
  },
  {
   "cell_type": "code",
   "execution_count": 13,
   "id": "a8d4a426",
   "metadata": {},
   "outputs": [],
   "source": [
    "# check for dupicated values\n",
    "\n",
    "dups = df.duplicated()"
   ]
  },
  {
   "cell_type": "code",
   "execution_count": 15,
   "id": "7de208c4",
   "metadata": {},
   "outputs": [
    {
     "data": {
      "text/plain": [
       "(179,)"
      ]
     },
     "execution_count": 15,
     "metadata": {},
     "output_type": "execute_result"
    }
   ],
   "source": [
    "dups.shape"
   ]
  },
  {
   "cell_type": "markdown",
   "id": "7112ff3e",
   "metadata": {},
   "source": [
    "No duplicates or missing values to address"
   ]
  },
  {
   "cell_type": "code",
   "execution_count": 17,
   "id": "3b61ddd2",
   "metadata": {},
   "outputs": [
    {
     "name": "stderr",
     "output_type": "stream",
     "text": [
      "C:\\Users\\alabaro\\AppData\\Local\\Temp\\ipykernel_22260\\375440299.py:3: UserWarning: \n",
      "\n",
      "`distplot` is a deprecated function and will be removed in seaborn v0.14.0.\n",
      "\n",
      "Please adapt your code to use either `displot` (a figure-level function with\n",
      "similar flexibility) or `histplot` (an axes-level function for histograms).\n",
      "\n",
      "For a guide to updating your code to use the new functions, please see\n",
      "https://gist.github.com/mwaskom/de44147ed2974457ad6372750bbe5751\n",
      "\n",
      "  sns.distplot(df['EPI.new'], bins=25) # Shows extreme values\n"
     ]
    },
    {
     "data": {
      "text/plain": [
       "<Axes: xlabel='EPI.new', ylabel='Density'>"
      ]
     },
     "execution_count": 17,
     "metadata": {},
     "output_type": "execute_result"
    },
    {
     "data": {
      "image/png": "[encoded data removed]",
      "text/plain": [
       "<Figure size 640x480 with 1 Axes>"
      ]
     },
     "metadata": {},
     "output_type": "display_data"
    }
   ],
   "source": [
    "# extreme values check \n",
    "\n",
    "sns.distplot(df['EPI.new'], bins=25) # Shows extreme values"
   ]
  },
  {
   "cell_type": "code",
   "execution_count": 18,
   "id": "8d4802f6",
   "metadata": {},
   "outputs": [
    {
     "data": {
      "text/plain": [
       "43.09106145251396"
      ]
     },
     "execution_count": 18,
     "metadata": {},
     "output_type": "execute_result"
    }
   ],
   "source": [
    "df['EPI.new'].mean() # Check the mean"
   ]
  },
  {
   "cell_type": "code",
   "execution_count": 19,
   "id": "a8676406",
   "metadata": {},
   "outputs": [
    {
     "data": {
      "text/plain": [
       "41.9"
      ]
     },
     "execution_count": 19,
     "metadata": {},
     "output_type": "execute_result"
    }
   ],
   "source": [
    "df['EPI.new'].median() # Check the median"
   ]
  },
  {
   "cell_type": "code",
   "execution_count": 20,
   "id": "3de99f0a",
   "metadata": {},
   "outputs": [
    {
     "data": {
      "text/plain": [
       "77.9"
      ]
     },
     "execution_count": 20,
     "metadata": {},
     "output_type": "execute_result"
    }
   ],
   "source": [
    "df['EPI.new'].max() # Check the max"
   ]
  },
  {
   "cell_type": "markdown",
   "id": "c0ebf597",
   "metadata": {},
   "source": [
    "# 03. Prep for data analysis"
   ]
  },
  {
   "cell_type": "code",
   "execution_count": 21,
   "id": "8ce6e43f",
   "metadata": {},
   "outputs": [
    {
     "data": {
      "image/png": "[encoded data removed]",
      "text/plain": [
       "<Figure size 640x480 with 1 Axes>"
      ]
     },
     "metadata": {},
     "output_type": "display_data"
    }
   ],
   "source": [
    "# Create a scatterplot using matplotlib\n",
    "\n",
    "df.plot(x = 'pop_2022', y='EPI.new',style='o') # The style option creates a scatterplot; without it, we only have lines.\n",
    "plt.title('EPI Scores and Country Population')  \n",
    "plt.xlabel('Country Population')  \n",
    "plt.ylabel('Country EPI Score')  \n",
    "plt.show()"
   ]
  },
  {
   "cell_type": "code",
   "execution_count": 22,
   "id": "fc8b5a6f",
   "metadata": {},
   "outputs": [],
   "source": [
    "# Reshape the variables into NumPy arrays and put them into separate objects.\n",
    "\n",
    "X = df['pop_2022'].values.reshape(-1,1)\n",
    "y = df['EPI.new'].values.reshape(-1,1)"
   ]
  },
  {
   "cell_type": "code",
   "execution_count": 23,
   "id": "34902713",
   "metadata": {},
   "outputs": [
    {
     "data": {
      "text/plain": [
       "array([[  41128771],\n",
       "       [  35588987],\n",
       "       [   2775634],\n",
       "       [   9441129],\n",
       "       [  46234830],\n",
       "       [   2780469],\n",
       "       [     93763],\n",
       "       [  25978935],\n",
       "       [   9042528],\n",
       "       [  10175016],\n",
       "       [  12889576],\n",
       "       [  11669446],\n",
       "       [  13352864],\n",
       "       [  22673762],\n",
       "       [ 171186372],\n",
       "       [   6465097],\n",
       "       [   1472233],\n",
       "       [    409984],\n",
       "       [   3233526],\n",
       "       [   9208701],\n",
       "       [    405272],\n",
       "       [  12224110],\n",
       "       [ 215313498],\n",
       "       [    281635],\n",
       "       [    449002],\n",
       "       [    782455],\n",
       "       [   2630296],\n",
       "       [   5579144],\n",
       "       [  38929902],\n",
       "       [   8769741],\n",
       "       [  19603733],\n",
       "       [1412175000],\n",
       "       [  28160542],\n",
       "       [  27914536],\n",
       "       [  99010212],\n",
       "       [   5970424],\n",
       "       [  51874024],\n",
       "       [    836774],\n",
       "       [    593149],\n",
       "       [   5180829],\n",
       "       [  11212191],\n",
       "       [   1251488],\n",
       "       [  10526073],\n",
       "       [  84079811],\n",
       "       [   1120849],\n",
       "       [     72737],\n",
       "       [   5903037],\n",
       "       [  11228821],\n",
       "       [  44903225],\n",
       "       [  18001000],\n",
       "       [ 110990103],\n",
       "       [   3684032],\n",
       "       [  47615034],\n",
       "       [   1344768],\n",
       "       [ 123379924],\n",
       "       [   5556880],\n",
       "       [    929766],\n",
       "       [  67935660],\n",
       "       [    114164],\n",
       "       [   2388992],\n",
       "       [  66971411],\n",
       "       [   3712502],\n",
       "       [  33475870],\n",
       "       [  13859341],\n",
       "       [   2705992],\n",
       "       [   2105566],\n",
       "       [   1674908],\n",
       "       [  10566531],\n",
       "       [    125438],\n",
       "       [  17357886],\n",
       "       [    808726],\n",
       "       [  10432860],\n",
       "       [   3854000],\n",
       "       [  11584996],\n",
       "       [   9683505],\n",
       "       [ 275501339],\n",
       "       [1417173173],\n",
       "       [   5086988],\n",
       "       [  88550570],\n",
       "       [  44496122],\n",
       "       [    381900],\n",
       "       [   9550600],\n",
       "       [  58856847],\n",
       "       [   2827377],\n",
       "       [  11285869],\n",
       "       [ 125124989],\n",
       "       [  19621972],\n",
       "       [  54027487],\n",
       "       [   6803300],\n",
       "       [  16767842],\n",
       "       [    131232],\n",
       "       [  51628117],\n",
       "       [   4268873],\n",
       "       [   7529475],\n",
       "       [   5489739],\n",
       "       [   5302681],\n",
       "       [    179857],\n",
       "       [  22181000],\n",
       "       [   2305825],\n",
       "       [   2833000],\n",
       "       [    650774],\n",
       "       [   1883379],\n",
       "       [  37457971],\n",
       "       [   2592477],\n",
       "       [  29611714],\n",
       "       [    523787],\n",
       "       [ 127504125],\n",
       "       [     41569],\n",
       "       [   2057679],\n",
       "       [  22593590],\n",
       "       [    523417],\n",
       "       [  54179306],\n",
       "       [    616159],\n",
       "       [   3398366],\n",
       "       [  32969518],\n",
       "       [   4736139],\n",
       "       [   1262523],\n",
       "       [  20405317],\n",
       "       [  33938221],\n",
       "       [   2567012],\n",
       "       [  26207977],\n",
       "       [ 218541212],\n",
       "       [   6948392],\n",
       "       [  17703090],\n",
       "       [   5457127],\n",
       "       [  30547580],\n",
       "       [   5124100],\n",
       "       [   4576298],\n",
       "       [ 235824862],\n",
       "       [   4408581],\n",
       "       [  34049588],\n",
       "       [ 115559009],\n",
       "       [  10142619],\n",
       "       [  37561599],\n",
       "       [  10379007],\n",
       "       [   6780744],\n",
       "       [   2695122],\n",
       "       [  18956666],\n",
       "       [ 143555736],\n",
       "       [  13776698],\n",
       "       [  36408820],\n",
       "       [  46874204],\n",
       "       [  17316449],\n",
       "       [   5637022],\n",
       "       [    724273],\n",
       "       [   8605718],\n",
       "       [   6336392],\n",
       "       [   6760087],\n",
       "       [    227380],\n",
       "       [    618040],\n",
       "       [   5431752],\n",
       "       [   2108732],\n",
       "       [  10486941],\n",
       "       [   1201670],\n",
       "       [    100060],\n",
       "       [  17723315],\n",
       "       [   8848699],\n",
       "       [  71697030],\n",
       "       [   9952787],\n",
       "       [   6430770],\n",
       "       [   1341296],\n",
       "       [    106858],\n",
       "       [   1531044],\n",
       "       [  12356117],\n",
       "       [  85341241],\n",
       "       [  65497748],\n",
       "       [  47249585],\n",
       "       [  38000000],\n",
       "       [   3422794],\n",
       "       [ 333287557],\n",
       "       [  35648100],\n",
       "       [    103948],\n",
       "       [  28301696],\n",
       "       [  98186856],\n",
       "       [    326740],\n",
       "       [    222382],\n",
       "       [  59893885],\n",
       "       [  20017675],\n",
       "       [  16320537]], dtype=int64)"
      ]
     },
     "execution_count": 23,
     "metadata": {},
     "output_type": "execute_result"
    }
   ],
   "source": [
    "# check output\n",
    "\n",
    "X"
   ]
  },
  {
   "cell_type": "code",
   "execution_count": 24,
   "id": "a0ad511c",
   "metadata": {},
   "outputs": [
    {
     "data": {
      "text/plain": [
       "array([[43.6],\n",
       "       [30.5],\n",
       "       [47.1],\n",
       "       [52.4],\n",
       "       [41.1],\n",
       "       [48.3],\n",
       "       [52.4],\n",
       "       [60.1],\n",
       "       [66.5],\n",
       "       [38.6],\n",
       "       [30.5],\n",
       "       [58.2],\n",
       "       [29.6],\n",
       "       [35.5],\n",
       "       [23.1],\n",
       "       [51.9],\n",
       "       [42. ],\n",
       "       [56.2],\n",
       "       [39.4],\n",
       "       [48.5],\n",
       "       [50. ],\n",
       "       [40.1],\n",
       "       [43.6],\n",
       "       [53.2],\n",
       "       [45.7],\n",
       "       [42.5],\n",
       "       [54. ],\n",
       "       [44.9],\n",
       "       [50. ],\n",
       "       [65.9],\n",
       "       [46.7],\n",
       "       [28.4],\n",
       "       [32.8],\n",
       "       [30.2],\n",
       "       [36.9],\n",
       "       [40.1],\n",
       "       [42.4],\n",
       "       [42.5],\n",
       "       [41.9],\n",
       "       [46.3],\n",
       "       [47.5],\n",
       "       [58. ],\n",
       "       [59.9],\n",
       "       [62.4],\n",
       "       [47.5],\n",
       "       [51.2],\n",
       "       [77.9],\n",
       "       [42.2],\n",
       "       [29.6],\n",
       "       [46.5],\n",
       "       [35.5],\n",
       "       [31.7],\n",
       "       [56.6],\n",
       "       [61.4],\n",
       "       [31.8],\n",
       "       [76.5],\n",
       "       [31.3],\n",
       "       [62.5],\n",
       "       [37.4],\n",
       "       [49.7],\n",
       "       [77.7],\n",
       "       [39.1],\n",
       "       [27.7],\n",
       "       [31.6],\n",
       "       [36.4],\n",
       "       [40.2],\n",
       "       [44.8],\n",
       "       [56.2],\n",
       "       [47.9],\n",
       "       [28. ],\n",
       "       [38.5],\n",
       "       [36.5],\n",
       "       [60.2],\n",
       "       [26.1],\n",
       "       [55.1],\n",
       "       [28.2],\n",
       "       [18.9],\n",
       "       [57.4],\n",
       "       [34.5],\n",
       "       [27.8],\n",
       "       [62.8],\n",
       "       [48.2],\n",
       "       [57.7],\n",
       "       [45.6],\n",
       "       [43.6],\n",
       "       [57.2],\n",
       "       [40.9],\n",
       "       [30.8],\n",
       "       [35.7],\n",
       "       [30.1],\n",
       "       [49. ],\n",
       "       [46.9],\n",
       "       [42.4],\n",
       "       [30.7],\n",
       "       [32.2],\n",
       "       [24.9],\n",
       "       [49.4],\n",
       "       [34.7],\n",
       "       [32.3],\n",
       "       [55.9],\n",
       "       [72.3],\n",
       "       [61.1],\n",
       "       [28.4],\n",
       "       [42.7],\n",
       "       [28. ],\n",
       "       [37.4],\n",
       "       [45.5],\n",
       "       [36.2],\n",
       "       [54.3],\n",
       "       [28.5],\n",
       "       [75.2],\n",
       "       [19.4],\n",
       "       [46.9],\n",
       "       [29.6],\n",
       "       [31.7],\n",
       "       [28.1],\n",
       "       [44.8],\n",
       "       [40.6],\n",
       "       [35. ],\n",
       "       [50.9],\n",
       "       [37.7],\n",
       "       [28.3],\n",
       "       [37.7],\n",
       "       [62.6],\n",
       "       [59.3],\n",
       "       [28.3],\n",
       "       [56.7],\n",
       "       [30.7],\n",
       "       [24.6],\n",
       "       [50.5],\n",
       "       [39.8],\n",
       "       [28.9],\n",
       "       [24.8],\n",
       "       [50.6],\n",
       "       [50.4],\n",
       "       [40.9],\n",
       "       [33. ],\n",
       "       [56. ],\n",
       "       [37.5],\n",
       "       [32.8],\n",
       "       [37.9],\n",
       "       [27.6],\n",
       "       [33.9],\n",
       "       [50.9],\n",
       "       [35. ],\n",
       "       [32.7],\n",
       "       [40.8],\n",
       "       [43.9],\n",
       "       [52.9],\n",
       "       [45.9],\n",
       "       [60. ],\n",
       "       [67.3],\n",
       "       [72.7],\n",
       "       [44.9],\n",
       "       [55.6],\n",
       "       [28.1],\n",
       "       [34. ],\n",
       "       [38.1],\n",
       "       [37.1],\n",
       "       [37. ],\n",
       "       [35.1],\n",
       "       [43.8],\n",
       "       [47.8],\n",
       "       [40.7],\n",
       "       [26.3],\n",
       "       [34.2],\n",
       "       [35.8],\n",
       "       [49.6],\n",
       "       [37.4],\n",
       "       [51.1],\n",
       "       [38.2],\n",
       "       [53.2],\n",
       "       [46.4],\n",
       "       [20.1],\n",
       "       [36.9],\n",
       "       [36.4],\n",
       "       [37.2],\n",
       "       [38.4],\n",
       "       [46.2]])"
      ]
     },
     "execution_count": 24,
     "metadata": {},
     "output_type": "execute_result"
    }
   ],
   "source": [
    "# check output\n",
    "\n",
    "y"
   ]
  },
  {
   "cell_type": "code",
   "execution_count": 25,
   "id": "67194970",
   "metadata": {},
   "outputs": [],
   "source": [
    "# Split data into a training set and a test set.\n",
    "\n",
    "X_train, X_test, y_train, y_test = train_test_split(X, y, test_size=0.3, random_state=0)"
   ]
  },
  {
   "cell_type": "markdown",
   "id": "4e00e037",
   "metadata": {},
   "source": [
    "# 04. Regression analysis"
   ]
  },
  {
   "cell_type": "code",
   "execution_count": 26,
   "id": "ba45e619",
   "metadata": {},
   "outputs": [],
   "source": [
    "# Create a regression object\n",
    "\n",
    "regression = LinearRegression()"
   ]
  },
  {
   "cell_type": "code",
   "execution_count": 27,
   "id": "76208fd4",
   "metadata": {},
   "outputs": [
    {
     "data": {
      "text/html": [
       "<style>#sk-container-id-1 {color: black;}#sk-container-id-1 pre{padding: 0;}#sk-container-id-1 div.sk-toggleable {background-color: white;}#sk-container-id-1 label.sk-toggleable__label {cursor: pointer;display: block;width: 100%;margin-bottom: 0;padding: 0.3em;box-sizing: border-box;text-align: center;}#sk-container-id-1 label.sk-toggleable__label-arrow:before {content: \"▸\";float: left;margin-right: 0.25em;color: #696969;}#sk-container-id-1 label.sk-toggleable__label-arrow:hover:before {color: black;}#sk-container-id-1 div.sk-estimator:hover label.sk-toggleable__label-arrow:before {color: black;}#sk-container-id-1 div.sk-toggleable__content {max-height: 0;max-width: 0;overflow: hidden;text-align: left;background-color: #f0f8ff;}#sk-container-id-1 div.sk-toggleable__content pre {margin: 0.2em;color: black;border-radius: 0.25em;background-color: #f0f8ff;}#sk-container-id-1 input.sk-toggleable__control:checked~div.sk-toggleable__content {max-height: 200px;max-width: 100%;overflow: auto;}#sk-container-id-1 input.sk-toggleable__control:checked~label.sk-toggleable__label-arrow:before {content: \"▾\";}#sk-container-id-1 div.sk-estimator input.sk-toggleable__control:checked~label.sk-toggleable__label {background-color: #d4ebff;}#sk-container-id-1 div.sk-label input.sk-toggleable__control:checked~label.sk-toggleable__label {background-color: #d4ebff;}#sk-container-id-1 input.sk-hidden--visually {border: 0;clip: rect(1px 1px 1px 1px);clip: rect(1px, 1px, 1px, 1px);height: 1px;margin: -1px;overflow: hidden;padding: 0;position: absolute;width: 1px;}#sk-container-id-1 div.sk-estimator {font-family: monospace;background-color: #f0f8ff;border: 1px dotted black;border-radius: 0.25em;box-sizing: border-box;margin-bottom: 0.5em;}#sk-container-id-1 div.sk-estimator:hover {background-color: #d4ebff;}#sk-container-id-1 div.sk-parallel-item::after {content: \"\";width: 100%;border-bottom: 1px solid gray;flex-grow: 1;}#sk-container-id-1 div.sk-label:hover label.sk-toggleable__label {background-color: #d4ebff;}#sk-container-id-1 div.sk-serial::before {content: \"\";position: absolute;border-left: 1px solid gray;box-sizing: border-box;top: 0;bottom: 0;left: 50%;z-index: 0;}#sk-container-id-1 div.sk-serial {display: flex;flex-direction: column;align-items: center;background-color: white;padding-right: 0.2em;padding-left: 0.2em;position: relative;}#sk-container-id-1 div.sk-item {position: relative;z-index: 1;}#sk-container-id-1 div.sk-parallel {display: flex;align-items: stretch;justify-content: center;background-color: white;position: relative;}#sk-container-id-1 div.sk-item::before, #sk-container-id-1 div.sk-parallel-item::before {content: \"\";position: absolute;border-left: 1px solid gray;box-sizing: border-box;top: 0;bottom: 0;left: 50%;z-index: -1;}#sk-container-id-1 div.sk-parallel-item {display: flex;flex-direction: column;z-index: 1;position: relative;background-color: white;}#sk-container-id-1 div.sk-parallel-item:first-child::after {align-self: flex-end;width: 50%;}#sk-container-id-1 div.sk-parallel-item:last-child::after {align-self: flex-start;width: 50%;}#sk-container-id-1 div.sk-parallel-item:only-child::after {width: 0;}#sk-container-id-1 div.sk-dashed-wrapped {border: 1px dashed gray;margin: 0 0.4em 0.5em 0.4em;box-sizing: border-box;padding-bottom: 0.4em;background-color: white;}#sk-container-id-1 div.sk-label label {font-family: monospace;font-weight: bold;display: inline-block;line-height: 1.2em;}#sk-container-id-1 div.sk-label-container {text-align: center;}#sk-container-id-1 div.sk-container {/* jupyter's `normalize.less` sets `[hidden] { display: none; }` but bootstrap.min.css set `[hidden] { display: none !important; }` so we also need the `!important` here to be able to override the default hidden behavior on the sphinx rendered scikit-learn.org. See: https://github.com/scikit-learn/scikit-learn/issues/21755 */display: inline-block !important;position: relative;}#sk-container-id-1 div.sk-text-repr-fallback {display: none;}</style><div id=\"sk-container-id-1\" class=\"sk-top-container\"><div class=\"sk-text-repr-fallback\"><pre>LinearRegression()</pre><b>In a Jupyter environment, please rerun this cell to show the HTML representation or trust the notebook. <br />On GitHub, the HTML representation is unable to render, please try loading this page with nbviewer.org.</b></div><div class=\"sk-container\" hidden><div class=\"sk-item\"><div class=\"sk-estimator sk-toggleable\"><input class=\"sk-toggleable__control sk-hidden--visually\" id=\"sk-estimator-id-1\" type=\"checkbox\" checked><label for=\"sk-estimator-id-1\" class=\"sk-toggleable__label sk-toggleable__label-arrow\">LinearRegression</label><div class=\"sk-toggleable__content\"><pre>LinearRegression()</pre></div></div></div></div></div>"
      ],
      "text/plain": [
       "LinearRegression()"
      ]
     },
     "execution_count": 27,
     "metadata": {},
     "output_type": "execute_result"
    }
   ],
   "source": [
    "# Fit the regression object onto the training set\n",
    "\n",
    "regression.fit(X_train, y_train)"
   ]
  },
  {
   "cell_type": "code",
   "execution_count": 28,
   "id": "9028d032",
   "metadata": {},
   "outputs": [],
   "source": [
    "# Predict the values of y using X\n",
    "\n",
    "y_predicted = regression.predict(X_test)"
   ]
  },
  {
   "cell_type": "code",
   "execution_count": 29,
   "id": "10872bb1",
   "metadata": {},
   "outputs": [
    {
     "data": {
      "image/png": "[encoded data removed]",
      "text/plain": [
       "<Figure size 640x480 with 1 Axes>"
      ]
     },
     "metadata": {},
     "output_type": "display_data"
    }
   ],
   "source": [
    "# Create a plot that shows the regression line from the model on the test set\n",
    "\n",
    "plot_test = plt\n",
    "plot_test.scatter(X_test, y_test, color='gray', s = 15)\n",
    "plot_test.plot(X_test, y_predicted, color='red', linewidth =3)\n",
    "plot_test.title('EPI and Country Population Test')\n",
    "plot_test.xlabel('Country Population')\n",
    "plot_test.ylabel('Country EPI Score')\n",
    "plot_test.show()"
   ]
  },
  {
   "cell_type": "code",
   "execution_count": 30,
   "id": "c005a22a",
   "metadata": {},
   "outputs": [],
   "source": [
    "# Create objects that contain the model summary statistics\n",
    "\n",
    "rmse = mean_squared_error(y_test, y_predicted) # mean squared error\n",
    "r2 = r2_score(y_test, y_predicted) # R2 score "
   ]
  },
  {
   "cell_type": "code",
   "execution_count": 31,
   "id": "11411c2d",
   "metadata": {},
   "outputs": [
    {
     "name": "stdout",
     "output_type": "stream",
     "text": [
      "Slope: [[-1.82874033e-08]]\n",
      "Mean squared error:  156.6096351020524\n",
      "R2 score:  -0.019912204682921653\n"
     ]
    }
   ],
   "source": [
    "# Model summary statistics\n",
    "\n",
    "print('Slope:' ,regression.coef_)\n",
    "print('Mean squared error: ', rmse)\n",
    "print('R2 score: ', r2)"
   ]
  },
  {
   "cell_type": "markdown",
   "id": "8e048bcf",
   "metadata": {},
   "source": [
    "Slope is negative\n",
    "Mean squared error is large (156) data points are very far from the regression line\n",
    "r2 is -1.9 - which means the regression line is worse fit than a horizontal line "
   ]
  },
  {
   "cell_type": "markdown",
   "id": "0b7177ae",
   "metadata": {},
   "source": [
    "Slope is negative - there is a negative relationship between a country's population and it's EPI score\n",
    "The mean squared error is large (156) distance between the data points and the line are quite large\n",
    "r2 is -1.9% - the model fits worse than a negative line"
   ]
  },
  {
   "cell_type": "code",
   "execution_count": 32,
   "id": "cdfa9ecc",
   "metadata": {},
   "outputs": [
    {
     "data": {
      "text/plain": [
       "array([[43.07217713],\n",
       "       [42.94375807],\n",
       "       [43.31904864],\n",
       "       [43.22805541],\n",
       "       [43.29484313],\n",
       "       [37.32388137],\n",
       "       [43.40184232],\n",
       "       [43.31575883],\n",
       "       [43.41689117],\n",
       "       [43.41808514],\n",
       "       [42.90836095],\n",
       "       [43.22706641],\n",
       "       [43.31951269],\n",
       "       [43.36799777],\n",
       "       [43.35971253],\n",
       "       [42.3235417 ],\n",
       "       [41.85817564],\n",
       "       [43.40754298],\n",
       "       [43.4035429 ],\n",
       "       [43.29177728],\n",
       "       [43.35669804],\n",
       "       [42.19411213],\n",
       "       [43.16539397],\n",
       "       [42.57333035],\n",
       "       [43.39084651],\n",
       "       [41.08712598],\n",
       "       [43.40757738],\n",
       "       [42.2210616 ],\n",
       "       [43.30296917],\n",
       "       [43.35095331],\n",
       "       [43.39834791],\n",
       "       [43.37074404],\n",
       "       [43.41477854],\n",
       "       [42.79616678],\n",
       "       [43.38821561],\n",
       "       [43.25348097],\n",
       "       [43.31722442],\n",
       "       [42.79820339],\n",
       "       [43.41751516],\n",
       "       [43.41186137],\n",
       "       [43.38440322],\n",
       "       [43.41063425],\n",
       "       [43.06034396],\n",
       "       [43.31845226],\n",
       "       [41.1625469 ],\n",
       "       [43.32187306],\n",
       "       [43.2504421 ],\n",
       "       [43.36955854],\n",
       "       [43.00566724],\n",
       "       [43.26146909],\n",
       "       [43.39192201],\n",
       "       [43.35147395],\n",
       "       [43.06001041],\n",
       "       [43.33822383]])"
      ]
     },
     "execution_count": 32,
     "metadata": {},
     "output_type": "execute_result"
    }
   ],
   "source": [
    "y_predicted"
   ]
  },
  {
   "cell_type": "code",
   "execution_count": 33,
   "id": "00a7a9e0",
   "metadata": {},
   "outputs": [
    {
     "data": {
      "text/html": [
       "<div>\n",
       "<style scoped>\n",
       "    .dataframe tbody tr th:only-of-type {\n",
       "        vertical-align: middle;\n",
       "    }\n",
       "\n",
       "    .dataframe tbody tr th {\n",
       "        vertical-align: top;\n",
       "    }\n",
       "\n",
       "    .dataframe thead th {\n",
       "        text-align: right;\n",
       "    }\n",
       "</style>\n",
       "<table border=\"1\" class=\"dataframe\">\n",
       "  <thead>\n",
       "    <tr style=\"text-align: right;\">\n",
       "      <th></th>\n",
       "      <th>Actual</th>\n",
       "      <th>Predicted</th>\n",
       "    </tr>\n",
       "  </thead>\n",
       "  <tbody>\n",
       "    <tr>\n",
       "      <th>0</th>\n",
       "      <td>56.0</td>\n",
       "      <td>43.072177</td>\n",
       "    </tr>\n",
       "    <tr>\n",
       "      <th>1</th>\n",
       "      <td>60.1</td>\n",
       "      <td>42.943758</td>\n",
       "    </tr>\n",
       "    <tr>\n",
       "      <th>2</th>\n",
       "      <td>59.3</td>\n",
       "      <td>43.319049</td>\n",
       "    </tr>\n",
       "    <tr>\n",
       "      <th>3</th>\n",
       "      <td>36.5</td>\n",
       "      <td>43.228055</td>\n",
       "    </tr>\n",
       "    <tr>\n",
       "      <th>4</th>\n",
       "      <td>40.9</td>\n",
       "      <td>43.294843</td>\n",
       "    </tr>\n",
       "    <tr>\n",
       "      <th>5</th>\n",
       "      <td>51.1</td>\n",
       "      <td>37.323881</td>\n",
       "    </tr>\n",
       "    <tr>\n",
       "      <th>6</th>\n",
       "      <td>31.3</td>\n",
       "      <td>43.401842</td>\n",
       "    </tr>\n",
       "    <tr>\n",
       "      <th>7</th>\n",
       "      <td>50.9</td>\n",
       "      <td>43.315759</td>\n",
       "    </tr>\n",
       "    <tr>\n",
       "      <th>8</th>\n",
       "      <td>43.8</td>\n",
       "      <td>43.416891</td>\n",
       "    </tr>\n",
       "    <tr>\n",
       "      <th>9</th>\n",
       "      <td>36.2</td>\n",
       "      <td>43.418085</td>\n",
       "    </tr>\n",
       "    <tr>\n",
       "      <th>10</th>\n",
       "      <td>30.2</td>\n",
       "      <td>42.908361</td>\n",
       "    </tr>\n",
       "    <tr>\n",
       "      <th>11</th>\n",
       "      <td>72.7</td>\n",
       "      <td>43.227066</td>\n",
       "    </tr>\n",
       "    <tr>\n",
       "      <th>12</th>\n",
       "      <td>60.0</td>\n",
       "      <td>43.319513</td>\n",
       "    </tr>\n",
       "    <tr>\n",
       "      <th>13</th>\n",
       "      <td>48.3</td>\n",
       "      <td>43.367998</td>\n",
       "    </tr>\n",
       "    <tr>\n",
       "      <th>14</th>\n",
       "      <td>39.4</td>\n",
       "      <td>43.359713</td>\n",
       "    </tr>\n",
       "    <tr>\n",
       "      <th>15</th>\n",
       "      <td>37.2</td>\n",
       "      <td>42.323542</td>\n",
       "    </tr>\n",
       "    <tr>\n",
       "      <th>16</th>\n",
       "      <td>26.3</td>\n",
       "      <td>41.858176</td>\n",
       "    </tr>\n",
       "    <tr>\n",
       "      <th>17</th>\n",
       "      <td>45.9</td>\n",
       "      <td>43.407543</td>\n",
       "    </tr>\n",
       "    <tr>\n",
       "      <th>18</th>\n",
       "      <td>42.5</td>\n",
       "      <td>43.403543</td>\n",
       "    </tr>\n",
       "    <tr>\n",
       "      <th>19</th>\n",
       "      <td>37.7</td>\n",
       "      <td>43.291777</td>\n",
       "    </tr>\n",
       "    <tr>\n",
       "      <th>20</th>\n",
       "      <td>29.6</td>\n",
       "      <td>43.356698</td>\n",
       "    </tr>\n",
       "    <tr>\n",
       "      <th>21</th>\n",
       "      <td>77.7</td>\n",
       "      <td>42.194112</td>\n",
       "    </tr>\n",
       "    <tr>\n",
       "      <th>22</th>\n",
       "      <td>31.6</td>\n",
       "      <td>43.165394</td>\n",
       "    </tr>\n",
       "    <tr>\n",
       "      <th>23</th>\n",
       "      <td>41.1</td>\n",
       "      <td>42.573330</td>\n",
       "    </tr>\n",
       "    <tr>\n",
       "      <th>24</th>\n",
       "      <td>47.8</td>\n",
       "      <td>43.390847</td>\n",
       "    </tr>\n",
       "    <tr>\n",
       "      <th>25</th>\n",
       "      <td>45.5</td>\n",
       "      <td>41.087126</td>\n",
       "    </tr>\n",
       "    <tr>\n",
       "      <th>26</th>\n",
       "      <td>46.9</td>\n",
       "      <td>43.407577</td>\n",
       "    </tr>\n",
       "    <tr>\n",
       "      <th>27</th>\n",
       "      <td>34.2</td>\n",
       "      <td>42.221062</td>\n",
       "    </tr>\n",
       "    <tr>\n",
       "      <th>28</th>\n",
       "      <td>40.8</td>\n",
       "      <td>43.302969</td>\n",
       "    </tr>\n",
       "    <tr>\n",
       "      <th>29</th>\n",
       "      <td>39.1</td>\n",
       "      <td>43.350953</td>\n",
       "    </tr>\n",
       "  </tbody>\n",
       "</table>\n",
       "</div>"
      ],
      "text/plain": [
       "    Actual  Predicted\n",
       "0     56.0  43.072177\n",
       "1     60.1  42.943758\n",
       "2     59.3  43.319049\n",
       "3     36.5  43.228055\n",
       "4     40.9  43.294843\n",
       "5     51.1  37.323881\n",
       "6     31.3  43.401842\n",
       "7     50.9  43.315759\n",
       "8     43.8  43.416891\n",
       "9     36.2  43.418085\n",
       "10    30.2  42.908361\n",
       "11    72.7  43.227066\n",
       "12    60.0  43.319513\n",
       "13    48.3  43.367998\n",
       "14    39.4  43.359713\n",
       "15    37.2  42.323542\n",
       "16    26.3  41.858176\n",
       "17    45.9  43.407543\n",
       "18    42.5  43.403543\n",
       "19    37.7  43.291777\n",
       "20    29.6  43.356698\n",
       "21    77.7  42.194112\n",
       "22    31.6  43.165394\n",
       "23    41.1  42.573330\n",
       "24    47.8  43.390847\n",
       "25    45.5  41.087126\n",
       "26    46.9  43.407577\n",
       "27    34.2  42.221062\n",
       "28    40.8  43.302969\n",
       "29    39.1  43.350953"
      ]
     },
     "execution_count": 33,
     "metadata": {},
     "output_type": "execute_result"
    }
   ],
   "source": [
    "# Create a dataframe comparing the actual and predicted values of y.\n",
    "\n",
    "data = pd.DataFrame({'Actual': y_test.flatten(), 'Predicted': y_predicted.flatten()})\n",
    "data.head(30)"
   ]
  },
  {
   "cell_type": "markdown",
   "id": "5462724c",
   "metadata": {},
   "source": [
    "Looking at actual and predicted values, there are significant differences between both. \n",
    "Data does not follow a straight line, so this model doesn't do a good job of predicting the relationship. "
   ]
  },
  {
   "cell_type": "code",
   "execution_count": 34,
   "id": "779e36d8",
   "metadata": {},
   "outputs": [],
   "source": [
    "# Predict the x_train\n",
    "# Compare how the regression fits the training set \n",
    "\n",
    "y_predicted_train = regression.predict(X_train)"
   ]
  },
  {
   "cell_type": "code",
   "execution_count": 35,
   "id": "9a4a04af",
   "metadata": {},
   "outputs": [],
   "source": [
    "rmse = mean_squared_error(y_train, y_predicted_train)\n",
    "r2 = r2_score(y_train, y_predicted_train)"
   ]
  },
  {
   "cell_type": "code",
   "execution_count": 36,
   "id": "26f4defb",
   "metadata": {},
   "outputs": [
    {
     "name": "stdout",
     "output_type": "stream",
     "text": [
      "Slope: [[-1.82874033e-08]]\n",
      "Mean squared error:  137.99119715914628\n",
      "R2 score:  0.0731873211194759\n"
     ]
    }
   ],
   "source": [
    "print('Slope:' ,regression.coef_)\n",
    "print('Mean squared error: ', rmse)\n",
    "print('R2 score: ', r2)"
   ]
  },
  {
   "cell_type": "code",
   "execution_count": 37,
   "id": "4687bab8",
   "metadata": {},
   "outputs": [
    {
     "data": {
      "image/png": "[encoded data removed]",
      "text/plain": [
       "<Figure size 640x480 with 1 Axes>"
      ]
     },
     "metadata": {},
     "output_type": "display_data"
    }
   ],
   "source": [
    "# Visualizing the training set results.\n",
    "\n",
    "plot_test = plt\n",
    "plot_test.scatter(X_train, y_train, color='blue', s = 15)\n",
    "plot_test.plot(X_train, y_predicted_train, color='red', linewidth =3)\n",
    "plot_test.title('EPI and Country Population Training Set')\n",
    "plot_test.xlabel('Country Population')\n",
    "plot_test.ylabel('EPI Score')\n",
    "plot_test.show()"
   ]
  },
  {
   "cell_type": "markdown",
   "id": "306bf72a",
   "metadata": {},
   "source": [
    "Interpretation: Regression line is not the best model for this set of data. Population is one variable that influences a country's EPI score, but we should consider other variables that could play a more significant role.\n",
    "Other variables to consider: Gini score, a country's participation in the Paris Climate Agreement, # of climate related policies, government political type (i.e. liberal or conservative)\n",
    "\n",
    "Potential Bias: The dataset is quite small, looking at data from 179 countries. Also, India and China have extremely large populations compared to all other countries which also skews the data. Since there are a limited number of countries, it might be better to identify trends over time. Environmental data is available from 1950 to 2022, which would provide a larger dataset. "
   ]
  },
  {
   "cell_type": "markdown",
   "id": "4321de13",
   "metadata": {},
   "source": [
    "# 05. See what the data set looks like without the outliers - India and China"
   ]
  },
  {
   "cell_type": "code",
   "execution_count": 38,
   "id": "6d5025ba",
   "metadata": {},
   "outputs": [],
   "source": [
    "# Clean the extreme values from the country population\n",
    "\n",
    "df_test = df[df['pop_2022'] <=1000000000] "
   ]
  },
  {
   "cell_type": "code",
   "execution_count": 40,
   "id": "d6601e93",
   "metadata": {},
   "outputs": [
    {
     "data": {
      "image/png": "[encoded data removed]",
      "text/plain": [
       "<Figure size 640x480 with 1 Axes>"
      ]
     },
     "metadata": {},
     "output_type": "display_data"
    }
   ],
   "source": [
    "# See how the scatterplot looks without outliers\n",
    "\n",
    "df_test.plot(x = 'pop_2022', y='EPI.new', style='o')  \n",
    "plt.title('EPI and Country Pop w/o Outliers')  \n",
    "plt.xlabel('Country Population')  \n",
    "plt.ylabel('Country EPI Score')  \n",
    "plt.show()"
   ]
  },
  {
   "cell_type": "code",
   "execution_count": 41,
   "id": "810736d3",
   "metadata": {},
   "outputs": [],
   "source": [
    "# Reshape variables\n",
    "\n",
    "X_2 = df_test['pop_2022'].values.reshape(-1,1)\n",
    "y_2 = df_test['EPI.new'].values.reshape(-1,1)"
   ]
  },
  {
   "cell_type": "code",
   "execution_count": 43,
   "id": "507543a3",
   "metadata": {},
   "outputs": [],
   "source": [
    "X_train_2, X_test_2, y_train_2, y_test_2 = train_test_split(X_2, y_2, test_size=0.3, random_state=0)"
   ]
  },
  {
   "cell_type": "code",
   "execution_count": 44,
   "id": "b6495953",
   "metadata": {},
   "outputs": [
    {
     "data": {
      "text/html": [
       "<style>#sk-container-id-2 {color: black;}#sk-container-id-2 pre{padding: 0;}#sk-container-id-2 div.sk-toggleable {background-color: white;}#sk-container-id-2 label.sk-toggleable__label {cursor: pointer;display: block;width: 100%;margin-bottom: 0;padding: 0.3em;box-sizing: border-box;text-align: center;}#sk-container-id-2 label.sk-toggleable__label-arrow:before {content: \"▸\";float: left;margin-right: 0.25em;color: #696969;}#sk-container-id-2 label.sk-toggleable__label-arrow:hover:before {color: black;}#sk-container-id-2 div.sk-estimator:hover label.sk-toggleable__label-arrow:before {color: black;}#sk-container-id-2 div.sk-toggleable__content {max-height: 0;max-width: 0;overflow: hidden;text-align: left;background-color: #f0f8ff;}#sk-container-id-2 div.sk-toggleable__content pre {margin: 0.2em;color: black;border-radius: 0.25em;background-color: #f0f8ff;}#sk-container-id-2 input.sk-toggleable__control:checked~div.sk-toggleable__content {max-height: 200px;max-width: 100%;overflow: auto;}#sk-container-id-2 input.sk-toggleable__control:checked~label.sk-toggleable__label-arrow:before {content: \"▾\";}#sk-container-id-2 div.sk-estimator input.sk-toggleable__control:checked~label.sk-toggleable__label {background-color: #d4ebff;}#sk-container-id-2 div.sk-label input.sk-toggleable__control:checked~label.sk-toggleable__label {background-color: #d4ebff;}#sk-container-id-2 input.sk-hidden--visually {border: 0;clip: rect(1px 1px 1px 1px);clip: rect(1px, 1px, 1px, 1px);height: 1px;margin: -1px;overflow: hidden;padding: 0;position: absolute;width: 1px;}#sk-container-id-2 div.sk-estimator {font-family: monospace;background-color: #f0f8ff;border: 1px dotted black;border-radius: 0.25em;box-sizing: border-box;margin-bottom: 0.5em;}#sk-container-id-2 div.sk-estimator:hover {background-color: #d4ebff;}#sk-container-id-2 div.sk-parallel-item::after {content: \"\";width: 100%;border-bottom: 1px solid gray;flex-grow: 1;}#sk-container-id-2 div.sk-label:hover label.sk-toggleable__label {background-color: #d4ebff;}#sk-container-id-2 div.sk-serial::before {content: \"\";position: absolute;border-left: 1px solid gray;box-sizing: border-box;top: 0;bottom: 0;left: 50%;z-index: 0;}#sk-container-id-2 div.sk-serial {display: flex;flex-direction: column;align-items: center;background-color: white;padding-right: 0.2em;padding-left: 0.2em;position: relative;}#sk-container-id-2 div.sk-item {position: relative;z-index: 1;}#sk-container-id-2 div.sk-parallel {display: flex;align-items: stretch;justify-content: center;background-color: white;position: relative;}#sk-container-id-2 div.sk-item::before, #sk-container-id-2 div.sk-parallel-item::before {content: \"\";position: absolute;border-left: 1px solid gray;box-sizing: border-box;top: 0;bottom: 0;left: 50%;z-index: -1;}#sk-container-id-2 div.sk-parallel-item {display: flex;flex-direction: column;z-index: 1;position: relative;background-color: white;}#sk-container-id-2 div.sk-parallel-item:first-child::after {align-self: flex-end;width: 50%;}#sk-container-id-2 div.sk-parallel-item:last-child::after {align-self: flex-start;width: 50%;}#sk-container-id-2 div.sk-parallel-item:only-child::after {width: 0;}#sk-container-id-2 div.sk-dashed-wrapped {border: 1px dashed gray;margin: 0 0.4em 0.5em 0.4em;box-sizing: border-box;padding-bottom: 0.4em;background-color: white;}#sk-container-id-2 div.sk-label label {font-family: monospace;font-weight: bold;display: inline-block;line-height: 1.2em;}#sk-container-id-2 div.sk-label-container {text-align: center;}#sk-container-id-2 div.sk-container {/* jupyter's `normalize.less` sets `[hidden] { display: none; }` but bootstrap.min.css set `[hidden] { display: none !important; }` so we also need the `!important` here to be able to override the default hidden behavior on the sphinx rendered scikit-learn.org. See: https://github.com/scikit-learn/scikit-learn/issues/21755 */display: inline-block !important;position: relative;}#sk-container-id-2 div.sk-text-repr-fallback {display: none;}</style><div id=\"sk-container-id-2\" class=\"sk-top-container\"><div class=\"sk-text-repr-fallback\"><pre>LinearRegression()</pre><b>In a Jupyter environment, please rerun this cell to show the HTML representation or trust the notebook. <br />On GitHub, the HTML representation is unable to render, please try loading this page with nbviewer.org.</b></div><div class=\"sk-container\" hidden><div class=\"sk-item\"><div class=\"sk-estimator sk-toggleable\"><input class=\"sk-toggleable__control sk-hidden--visually\" id=\"sk-estimator-id-2\" type=\"checkbox\" checked><label for=\"sk-estimator-id-2\" class=\"sk-toggleable__label sk-toggleable__label-arrow\">LinearRegression</label><div class=\"sk-toggleable__content\"><pre>LinearRegression()</pre></div></div></div></div></div>"
      ],
      "text/plain": [
       "LinearRegression()"
      ]
     },
     "execution_count": 44,
     "metadata": {},
     "output_type": "execute_result"
    }
   ],
   "source": [
    "# Run and fit the regression.\n",
    "\n",
    "regression = LinearRegression()  \n",
    "regression.fit(X_train_2, y_train_2)"
   ]
  },
  {
   "cell_type": "code",
   "execution_count": 45,
   "id": "ed98dae4",
   "metadata": {},
   "outputs": [],
   "source": [
    "# Predict\n",
    "\n",
    "y_predicted_2 = regression.predict(X_test_2)"
   ]
  },
  {
   "cell_type": "code",
   "execution_count": 46,
   "id": "47160891",
   "metadata": {},
   "outputs": [],
   "source": [
    "rmse = mean_squared_error(y_test_2, y_predicted_2)\n",
    "r2 = r2_score(y_test_2, y_predicted_2)"
   ]
  },
  {
   "cell_type": "code",
   "execution_count": 47,
   "id": "ee58e79f",
   "metadata": {},
   "outputs": [
    {
     "name": "stdout",
     "output_type": "stream",
     "text": [
      "Slope: [[-7.86420049e-08]]\n",
      "Mean squared error:  195.4852350952281\n",
      "R2 score:  -0.07018677995899059\n"
     ]
    }
   ],
   "source": [
    "print('Slope:' ,regression.coef_)\n",
    "print('Mean squared error: ', rmse)\n",
    "print('R2 score: ', r2)"
   ]
  },
  {
   "cell_type": "markdown",
   "id": "b6804075",
   "metadata": {},
   "source": [
    "Slope is negative\n",
    "Mean squared error is large (195) and much larger than data set with all data points included\n",
    "r2 is -7 - which means the regression line is worse fit than a horizontal line "
   ]
  },
  {
   "cell_type": "code",
   "execution_count": 48,
   "id": "d210ea97",
   "metadata": {},
   "outputs": [
    {
     "data": {
      "image/png": "[encoded data removed]",
      "text/plain": [
       "<Figure size 640x480 with 1 Axes>"
      ]
     },
     "metadata": {},
     "output_type": "display_data"
    }
   ],
   "source": [
    "# Visualizing the test set results\n",
    "\n",
    "plot_test = plt\n",
    "plot_test.scatter(X_test_2, y_test_2, color='gray', s = 15)\n",
    "plot_test.plot(X_test_2, y_predicted_2, color='red', linewidth =3)\n",
    "plot_test.title('EPI and Country Population w/o outliers')\n",
    "plot_test.xlabel('Country Population')\n",
    "plot_test.ylabel('Country EPI Score')\n",
    "plot_test.show()"
   ]
  },
  {
   "cell_type": "code",
   "execution_count": 49,
   "id": "3b0dc802",
   "metadata": {},
   "outputs": [
    {
     "data": {
      "text/html": [
       "<div>\n",
       "<style scoped>\n",
       "    .dataframe tbody tr th:only-of-type {\n",
       "        vertical-align: middle;\n",
       "    }\n",
       "\n",
       "    .dataframe tbody tr th {\n",
       "        vertical-align: top;\n",
       "    }\n",
       "\n",
       "    .dataframe thead th {\n",
       "        text-align: right;\n",
       "    }\n",
       "</style>\n",
       "<table border=\"1\" class=\"dataframe\">\n",
       "  <thead>\n",
       "    <tr style=\"text-align: right;\">\n",
       "      <th></th>\n",
       "      <th>Actual</th>\n",
       "      <th>Predicted</th>\n",
       "    </tr>\n",
       "  </thead>\n",
       "  <tbody>\n",
       "    <tr>\n",
       "      <th>0</th>\n",
       "      <td>76.5</td>\n",
       "      <td>44.124658</td>\n",
       "    </tr>\n",
       "    <tr>\n",
       "      <th>1</th>\n",
       "      <td>72.7</td>\n",
       "      <td>43.736949</td>\n",
       "    </tr>\n",
       "    <tr>\n",
       "      <th>2</th>\n",
       "      <td>36.4</td>\n",
       "      <td>44.348858</td>\n",
       "    </tr>\n",
       "    <tr>\n",
       "      <th>3</th>\n",
       "      <td>31.3</td>\n",
       "      <td>44.488544</td>\n",
       "    </tr>\n",
       "    <tr>\n",
       "      <th>4</th>\n",
       "      <td>28.3</td>\n",
       "      <td>42.159340</td>\n",
       "    </tr>\n",
       "    <tr>\n",
       "      <th>5</th>\n",
       "      <td>62.6</td>\n",
       "      <td>43.169456</td>\n",
       "    </tr>\n",
       "    <tr>\n",
       "      <th>6</th>\n",
       "      <td>60.1</td>\n",
       "      <td>42.518627</td>\n",
       "    </tr>\n",
       "    <tr>\n",
       "      <th>7</th>\n",
       "      <td>43.8</td>\n",
       "      <td>44.553259</td>\n",
       "    </tr>\n",
       "    <tr>\n",
       "      <th>8</th>\n",
       "      <td>54.3</td>\n",
       "      <td>44.399843</td>\n",
       "    </tr>\n",
       "    <tr>\n",
       "      <th>9</th>\n",
       "      <td>42.4</td>\n",
       "      <td>44.225950</td>\n",
       "    </tr>\n",
       "    <tr>\n",
       "      <th>10</th>\n",
       "      <td>49.6</td>\n",
       "      <td>41.573266</td>\n",
       "    </tr>\n",
       "    <tr>\n",
       "      <th>11</th>\n",
       "      <td>43.9</td>\n",
       "      <td>44.030036</td>\n",
       "    </tr>\n",
       "    <tr>\n",
       "      <th>12</th>\n",
       "      <td>48.3</td>\n",
       "      <td>44.343001</td>\n",
       "    </tr>\n",
       "    <tr>\n",
       "      <th>13</th>\n",
       "      <td>72.3</td>\n",
       "      <td>44.510484</td>\n",
       "    </tr>\n",
       "    <tr>\n",
       "      <th>14</th>\n",
       "      <td>51.1</td>\n",
       "      <td>18.351261</td>\n",
       "    </tr>\n",
       "    <tr>\n",
       "      <th>15</th>\n",
       "      <td>57.7</td>\n",
       "      <td>39.933042</td>\n",
       "    </tr>\n",
       "    <tr>\n",
       "      <th>16</th>\n",
       "      <td>36.9</td>\n",
       "      <td>36.775301</td>\n",
       "    </tr>\n",
       "    <tr>\n",
       "      <th>17</th>\n",
       "      <td>39.4</td>\n",
       "      <td>44.307372</td>\n",
       "    </tr>\n",
       "    <tr>\n",
       "      <th>18</th>\n",
       "      <td>27.7</td>\n",
       "      <td>41.929053</td>\n",
       "    </tr>\n",
       "    <tr>\n",
       "      <th>19</th>\n",
       "      <td>56.6</td>\n",
       "      <td>40.817121</td>\n",
       "    </tr>\n",
       "    <tr>\n",
       "      <th>20</th>\n",
       "      <td>56.2</td>\n",
       "      <td>43.730689</td>\n",
       "    </tr>\n",
       "    <tr>\n",
       "      <th>21</th>\n",
       "      <td>41.9</td>\n",
       "      <td>44.515016</td>\n",
       "    </tr>\n",
       "    <tr>\n",
       "      <th>22</th>\n",
       "      <td>41.1</td>\n",
       "      <td>40.925663</td>\n",
       "    </tr>\n",
       "    <tr>\n",
       "      <th>23</th>\n",
       "      <td>45.5</td>\n",
       "      <td>34.534483</td>\n",
       "    </tr>\n",
       "    <tr>\n",
       "      <th>24</th>\n",
       "      <td>39.1</td>\n",
       "      <td>44.269704</td>\n",
       "    </tr>\n",
       "    <tr>\n",
       "      <th>25</th>\n",
       "      <td>29.6</td>\n",
       "      <td>44.294408</td>\n",
       "    </tr>\n",
       "    <tr>\n",
       "      <th>26</th>\n",
       "      <td>24.6</td>\n",
       "      <td>26.015923</td>\n",
       "    </tr>\n",
       "    <tr>\n",
       "      <th>27</th>\n",
       "      <td>35.7</td>\n",
       "      <td>44.026638</td>\n",
       "    </tr>\n",
       "    <tr>\n",
       "      <th>28</th>\n",
       "      <td>31.7</td>\n",
       "      <td>41.968874</td>\n",
       "    </tr>\n",
       "    <tr>\n",
       "      <th>29</th>\n",
       "      <td>34.2</td>\n",
       "      <td>39.410788</td>\n",
       "    </tr>\n",
       "  </tbody>\n",
       "</table>\n",
       "</div>"
      ],
      "text/plain": [
       "    Actual  Predicted\n",
       "0     76.5  44.124658\n",
       "1     72.7  43.736949\n",
       "2     36.4  44.348858\n",
       "3     31.3  44.488544\n",
       "4     28.3  42.159340\n",
       "5     62.6  43.169456\n",
       "6     60.1  42.518627\n",
       "7     43.8  44.553259\n",
       "8     54.3  44.399843\n",
       "9     42.4  44.225950\n",
       "10    49.6  41.573266\n",
       "11    43.9  44.030036\n",
       "12    48.3  44.343001\n",
       "13    72.3  44.510484\n",
       "14    51.1  18.351261\n",
       "15    57.7  39.933042\n",
       "16    36.9  36.775301\n",
       "17    39.4  44.307372\n",
       "18    27.7  41.929053\n",
       "19    56.6  40.817121\n",
       "20    56.2  43.730689\n",
       "21    41.9  44.515016\n",
       "22    41.1  40.925663\n",
       "23    45.5  34.534483\n",
       "24    39.1  44.269704\n",
       "25    29.6  44.294408\n",
       "26    24.6  26.015923\n",
       "27    35.7  44.026638\n",
       "28    31.7  41.968874\n",
       "29    34.2  39.410788"
      ]
     },
     "execution_count": 49,
     "metadata": {},
     "output_type": "execute_result"
    }
   ],
   "source": [
    "data = pd.DataFrame({'Actual': y_test_2.flatten(), 'Predicted': y_predicted_2.flatten()})\n",
    "data.head(30)"
   ]
  },
  {
   "cell_type": "markdown",
   "id": "20f8cbaf",
   "metadata": {},
   "source": [
    "There are large differences between the actual and predicted values. \n",
    "Linear regression is not the best model for this dataset. "
   ]
  },
  {
   "cell_type": "markdown",
   "id": "ec430281",
   "metadata": {},
   "source": []
  }
 ],
 "metadata": {
  "kernelspec": {
   "display_name": "Python 3 (ipykernel)",
   "language": "python",
   "name": "python3"
  },
  "language_info": {
   "codemirror_mode": {
    "name": "ipython",
    "version": 3
   },
   "file_extension": ".py",
   "mimetype": "text/x-python",
   "name": "python",
   "nbconvert_exporter": "python",
   "pygments_lexer": "ipython3",
   "version": "3.11.4"
  }
 },
 "nbformat": 4,
 "nbformat_minor": 5
}
